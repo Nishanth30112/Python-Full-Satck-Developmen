{
  "nbformat": 4,
  "nbformat_minor": 0,
  "metadata": {
    "colab": {
      "name": "set.ipynb",
      "provenance": [],
      "collapsed_sections": [],
      "authorship_tag": "ABX9TyN4tlmj4rsR/zL/gAjM5faE",
      "include_colab_link": true
    },
    "kernelspec": {
      "name": "python3",
      "display_name": "Python 3"
    },
    "language_info": {
      "name": "python"
    }
  },
  "cells": [
    {
      "cell_type": "markdown",
      "metadata": {
        "id": "view-in-github",
        "colab_type": "text"
      },
      "source": [
        "<a href=\"https://colab.research.google.com/github/Nishanth30112/Python-Full-Satck-Developmen/blob/main/set.ipynb\" target=\"_parent\"><img src=\"https://colab.research.google.com/assets/colab-badge.svg\" alt=\"Open In Colab\"/></a>"
      ]
    },
    {
      "cell_type": "code",
      "execution_count": 2,
      "metadata": {
        "colab": {
          "base_uri": "https://localhost:8080/"
        },
        "id": "O6oiSfQLEWti",
        "outputId": "85ea4e45-5a1b-4b56-f4ba-0628ea57e14f"
      },
      "outputs": [
        {
          "output_type": "stream",
          "name": "stdout",
          "text": [
            "{1, 2, 3, 4}\n"
          ]
        }
      ],
      "source": [
        "numberset={1,2,3,4,3,2}\n",
        "print(numberset)"
      ]
    },
    {
      "cell_type": "code",
      "source": [
        "emptyset={}\n",
        "print(type(emptyset))"
      ],
      "metadata": {
        "colab": {
          "base_uri": "https://localhost:8080/"
        },
        "id": "6t3zmeM0KHWH",
        "outputId": "96e7b247-becd-4e98-d287-decbba9e1837"
      },
      "execution_count": 3,
      "outputs": [
        {
          "output_type": "stream",
          "name": "stdout",
          "text": [
            "<class 'dict'>\n"
          ]
        }
      ]
    },
    {
      "cell_type": "code",
      "source": [
        "emptyset=set()\n",
        "print(type(emptyset))"
      ],
      "metadata": {
        "colab": {
          "base_uri": "https://localhost:8080/"
        },
        "id": "uPeEWqjVw1lY",
        "outputId": "313b7657-afea-4a0c-89d4-c01875ce09b6"
      },
      "execution_count": 4,
      "outputs": [
        {
          "output_type": "stream",
          "name": "stdout",
          "text": [
            "<class 'set'>\n"
          ]
        }
      ]
    },
    {
      "cell_type": "code",
      "source": [
        "my_set ={1.0,\"Hello\",(1,2,3)}\n",
        "print(my_set)"
      ],
      "metadata": {
        "colab": {
          "base_uri": "https://localhost:8080/"
        },
        "id": "PFf7ZTvJw3sV",
        "outputId": "578498c3-7163-48f4-ba25-8f552f8fb1cc"
      },
      "execution_count": 5,
      "outputs": [
        {
          "output_type": "stream",
          "name": "stdout",
          "text": [
            "{1.0, 'Hello', (1, 2, 3)}\n"
          ]
        }
      ]
    },
    {
      "cell_type": "code",
      "source": [
        "set_with_lists = set([1,2,3])\n",
        "print(type(set_with_lists))\n",
        "print(set_with_lists)"
      ],
      "metadata": {
        "colab": {
          "base_uri": "https://localhost:8080/"
        },
        "id": "i0oUQFlmw6gB",
        "outputId": "dc97bcda-6bda-4033-e2f4-95aa49162d8d"
      },
      "execution_count": 6,
      "outputs": [
        {
          "output_type": "stream",
          "name": "stdout",
          "text": [
            "<class 'set'>\n",
            "{1, 2, 3}\n"
          ]
        }
      ]
    },
    {
      "cell_type": "code",
      "source": [
        "my_set=set()\n",
        "my_set.update([9,12])\n",
        "my_set.update((3,5))\n",
        "my_set.update(\"SIKANDHAR\")\n",
        "print(my_set)"
      ],
      "metadata": {
        "colab": {
          "base_uri": "https://localhost:8080/"
        },
        "id": "Or-uisZcw8ST",
        "outputId": "0727ec97-7dc3-4b8b-9835-51ed5e5581ae"
      },
      "execution_count": 7,
      "outputs": [
        {
          "output_type": "stream",
          "name": "stdout",
          "text": [
            "{'R', 3, 'N', 5, 'H', 9, 12, 'K', 'I', 'D', 'A', 'S'}\n"
          ]
        }
      ]
    },
    {
      "cell_type": "code",
      "source": [
        "my_set.update((\"INDIA\",\"BHARAT\"))\n",
        "print(my_set)"
      ],
      "metadata": {
        "colab": {
          "base_uri": "https://localhost:8080/"
        },
        "id": "JXh4HTHfw-e-",
        "outputId": "a74f1c4e-b8eb-46a6-da4d-52d0d30e90f9"
      },
      "execution_count": 8,
      "outputs": [
        {
          "output_type": "stream",
          "name": "stdout",
          "text": [
            "{'R', 3, 'N', 5, 'H', 'BHARAT', 9, 'INDIA', 12, 'K', 'I', 'D', 'A', 'S'}\n"
          ]
        }
      ]
    },
    {
      "cell_type": "code",
      "source": [
        "my_set.update((4,5))"
      ],
      "metadata": {
        "id": "Yo_lgLA2y2cv"
      },
      "execution_count": 10,
      "outputs": []
    },
    {
      "cell_type": "code",
      "source": [
        "print(my_set)"
      ],
      "metadata": {
        "colab": {
          "base_uri": "https://localhost:8080/"
        },
        "id": "EBtUKEJ2zX5v",
        "outputId": "20387269-3ac9-43bf-f6a5-14a95efbccb2"
      },
      "execution_count": 11,
      "outputs": [
        {
          "output_type": "stream",
          "name": "stdout",
          "text": [
            "{'R', 3, 'N', 5, 'H', 'BHARAT', 4, 9, 'INDIA', 12, 'K', 'I', 'D', 'A', 'S'}\n"
          ]
        }
      ]
    },
    {
      "cell_type": "code",
      "source": [
        "my_set.discard(15)\n",
        "print(my_set)"
      ],
      "metadata": {
        "colab": {
          "base_uri": "https://localhost:8080/"
        },
        "id": "R3u9IXfRxA5V",
        "outputId": "36e8c68e-64b5-4288-d68a-63d80f74282c"
      },
      "execution_count": null,
      "outputs": [
        {
          "output_type": "stream",
          "name": "stdout",
          "text": [
            "{3, 'D', 5, 'K', 'INDIA', 9, 'I', 12, 'R', 'A', 'H', 'S', 'BHARAT', 'N'}\n"
          ]
        }
      ]
    },
    {
      "cell_type": "code",
      "source": [
        "print(my_set)\n",
        "my_set.remove(15)"
      ],
      "metadata": {
        "colab": {
          "base_uri": "https://localhost:8080/",
          "height": 201
        },
        "id": "C1koaGySxDhi",
        "outputId": "ab76b1da-4c64-4375-e52e-faf1c5f8dcac"
      },
      "execution_count": null,
      "outputs": [
        {
          "output_type": "stream",
          "name": "stdout",
          "text": [
            "{3, 'D', 5, 'K', 'INDIA', 9, 'I', 12, 'R', 'A', 'H', 'S', 'BHARAT', 'N'}\n"
          ]
        },
        {
          "output_type": "error",
          "ename": "KeyError",
          "evalue": "ignored",
          "traceback": [
            "\u001b[0;31m---------------------------------------------------------------------------\u001b[0m",
            "\u001b[0;31mKeyError\u001b[0m                                  Traceback (most recent call last)",
            "\u001b[0;32m<ipython-input-9-fde9d8452996>\u001b[0m in \u001b[0;36m<module>\u001b[0;34m()\u001b[0m\n\u001b[1;32m      1\u001b[0m \u001b[0mprint\u001b[0m\u001b[0;34m(\u001b[0m\u001b[0mmy_set\u001b[0m\u001b[0;34m)\u001b[0m\u001b[0;34m\u001b[0m\u001b[0;34m\u001b[0m\u001b[0m\n\u001b[0;32m----> 2\u001b[0;31m \u001b[0mmy_set\u001b[0m\u001b[0;34m.\u001b[0m\u001b[0mremove\u001b[0m\u001b[0;34m(\u001b[0m\u001b[0;36m15\u001b[0m\u001b[0;34m)\u001b[0m\u001b[0;34m\u001b[0m\u001b[0;34m\u001b[0m\u001b[0m\n\u001b[0m",
            "\u001b[0;31mKeyError\u001b[0m: 15"
          ]
        }
      ]
    },
    {
      "cell_type": "code",
      "source": [
        "my_set=set(\"apple\")\n",
        "print('a'in my_set)\n",
        "print('p'not in my_set)"
      ],
      "metadata": {
        "colab": {
          "base_uri": "https://localhost:8080/"
        },
        "id": "5DxQCxyCxFZp",
        "outputId": "893cad50-ba74-45a4-8bb7-d972b5c73d83"
      },
      "execution_count": null,
      "outputs": [
        {
          "output_type": "stream",
          "name": "stdout",
          "text": [
            "True\n",
            "False\n"
          ]
        }
      ]
    },
    {
      "cell_type": "code",
      "source": [
        "A={1,2,3,4,5}\n",
        "B={4,5,6,7,8}\n",
        "print('union = ',A|B)\n",
        "print('Intersection = ',A&B)\n",
        "print('Difference = ',A-B)\n",
        "print('Symmetric Diff = ',A^B)"
      ],
      "metadata": {
        "colab": {
          "base_uri": "https://localhost:8080/"
        },
        "id": "lX6hmUJmxH7E",
        "outputId": "a879d30b-6d8a-42c8-e106-a64367a99565"
      },
      "execution_count": null,
      "outputs": [
        {
          "output_type": "stream",
          "name": "stdout",
          "text": [
            "union =  {1, 2, 3, 4, 5, 6, 7, 8}\n",
            "Intersection =  {4, 5}\n",
            "Difference =  {1, 2, 3}\n",
            "Symmetric Diff =  {1, 2, 3, 6, 7, 8}\n"
          ]
        }
      ]
    },
    {
      "cell_type": "code",
      "source": [
        "studentList = {'danish', 'jaison', 'sangeetha', 'uma', 'amrutha', 'lohita', 'prasad', 'ashwathi'}\n",
        "placedStudList = [\"uma\", \"danish\", \"amrutha\"]\n",
        "notPlacedStudList = set (studentList) - set (placedStudList) \n",
        "print (\"Students yet to get job \\n\", notPlacedStudList)"
      ],
      "metadata": {
        "colab": {
          "base_uri": "https://localhost:8080/"
        },
        "id": "IdEHBUP9xKdq",
        "outputId": "7b215556-7f47-4883-8a6a-0a840d2d7490"
      },
      "execution_count": null,
      "outputs": [
        {
          "output_type": "stream",
          "name": "stdout",
          "text": [
            "Students yet to get job \n",
            " {'prasad', 'jaison', 'lohita', 'ashwathi', 'sangeetha'}\n"
          ]
        }
      ]
    },
    {
      "cell_type": "code",
      "source": [
        "batsmen = [\"virat\", \"rohit\", \"dhawan\", \"dhoni\", \"pandya\", \"jadeja\"]\n",
        "bowlers = [\"bhuvenashwar\", \"shami\", \"pandya\", \"jadeja\", \"kuldeep\"]\n",
        "allrounders = set (batsmen) & set (bowlers)\n",
        "print (\"Batsmen : \", batsmen) \n",
        "print (\"Bowlers : \",bowlers) \n",
        "print (\"All rounders: \", allrounders)"
      ],
      "metadata": {
        "colab": {
          "base_uri": "https://localhost:8080/"
        },
        "id": "Fd4U-PMixM9F",
        "outputId": "c88762a8-bdda-4c78-dbf7-e1eb36e37a16"
      },
      "execution_count": null,
      "outputs": [
        {
          "output_type": "stream",
          "name": "stdout",
          "text": [
            "Batsmen :  ['virat', 'rohit', 'dhawan', 'dhoni', 'pandya', 'jadeja']\n",
            "Bowlers :  ['bhuvenashwar', 'shami', 'pandya', 'jadeja', 'kuldeep']\n",
            "All rounders:  {'jadeja', 'pandya'}\n"
          ]
        }
      ]
    },
    {
      "cell_type": "code",
      "source": [
        "tcs = [\"uma\",\"danish\", \"amrutha\"] \n",
        "infosys = [\"lohita\", \"danish\", \"ashwathi\"] \n",
        "wipro = [\"sangeetha\", \"jaison\", \"prasad\", \"amrutha\"]\n",
        "placed = set (tcs) | set (infosys) | set (wipro)\n",
        "print (placed)\n",
        "print (\"Number of people placed = \", len (placed))"
      ],
      "metadata": {
        "colab": {
          "base_uri": "https://localhost:8080/"
        },
        "id": "6gYLr_jZxPSS",
        "outputId": "1fdcd86a-a9b8-4816-8d5f-52bfef926e96"
      },
      "execution_count": null,
      "outputs": [
        {
          "output_type": "stream",
          "name": "stdout",
          "text": [
            "{'prasad', 'jaison', 'amrutha', 'danish', 'uma', 'lohita', 'ashwathi', 'sangeetha'}\n",
            "Number of people placed =  8\n"
          ]
        }
      ]
    },
    {
      "cell_type": "code",
      "source": [
        "numbers = {1,2,3,4,5,6,7,8,9,10}\n",
        "\n",
        "odd = {1,3,5,7,9}\n",
        "\n",
        "even = {2,4,6,8,10}\n",
        "\n",
        "print (odd.isdisjoint (even))\n",
        "\n",
        "print (numbers.issuperset (odd))\n",
        "\n",
        "print (odd. issuperset (numbers))\n",
        "\n",
        "print (odd. issubset (numbers))"
      ],
      "metadata": {
        "colab": {
          "base_uri": "https://localhost:8080/"
        },
        "id": "ShrksizxxSi4",
        "outputId": "2f5ce4f2-cd06-403e-a12b-39af709298a0"
      },
      "execution_count": null,
      "outputs": [
        {
          "output_type": "stream",
          "name": "stdout",
          "text": [
            "True\n",
            "True\n",
            "False\n",
            "True\n"
          ]
        }
      ]
    },
    {
      "cell_type": "code",
      "source": [
        "data = \"cranes varsity bangalore\"\n",
        "unique = set (data)\n",
        "print(\"Number of unique characters =\", len (unique)) \n",
        "print (\"List of unique characters = \", unique)\n",
        "data = list(data)\n",
        "for ele in unique:\n",
        " data.remove (ele)\n",
        "print(\"Repeated Characters \",set(data))"
      ],
      "metadata": {
        "colab": {
          "base_uri": "https://localhost:8080/"
        },
        "id": "EKswZCcIxUhu",
        "outputId": "6ea9eb79-0cdb-46af-c0b0-631b677ec337"
      },
      "execution_count": null,
      "outputs": [
        {
          "output_type": "stream",
          "name": "stdout",
          "text": [
            "Number of unique characters = 15\n",
            "List of unique characters =  {'a', 'b', 'i', 'o', 'e', 's', 't', 'g', ' ', 'r', 'y', 'c', 'l', 'n', 'v'}\n",
            "Repeated Characters  {'a', 'e', 's', ' ', 'r', 'n'}\n"
          ]
        }
      ]
    }
  ]
}