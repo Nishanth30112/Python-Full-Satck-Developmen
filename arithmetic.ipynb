{
  "nbformat": 4,
  "nbformat_minor": 0,
  "metadata": {
    "colab": {
      "name": "arithmetic.ipynb",
      "provenance": [],
      "authorship_tag": "ABX9TyMeLJlB1yWSJJobrxFDVByJ",
      "include_colab_link": true
    },
    "kernelspec": {
      "name": "python3",
      "display_name": "Python 3"
    },
    "language_info": {
      "name": "python"
    }
  },
  "cells": [
    {
      "cell_type": "markdown",
      "metadata": {
        "id": "view-in-github",
        "colab_type": "text"
      },
      "source": [
        "<a href=\"https://colab.research.google.com/github/Nishanth30112/Python-Full-Satck-Developmen/blob/main/arithmetic.ipynb\" target=\"_parent\"><img src=\"https://colab.research.google.com/assets/colab-badge.svg\" alt=\"Open In Colab\"/></a>"
      ]
    },
    {
      "cell_type": "code",
      "execution_count": 2,
      "metadata": {
        "colab": {
          "base_uri": "https://localhost:8080/"
        },
        "id": "GqxilI7c4O5R",
        "outputId": "ce944f7f-a358-4b00-bafb-bec44b45c879"
      },
      "outputs": [
        {
          "output_type": "stream",
          "name": "stdout",
          "text": [
            "17\n",
            "27\n",
            "1\n"
          ]
        }
      ],
      "source": [
        "val1 = 8\n",
        "val2 = 9\n",
        "res = val1 + val2\n",
        "print(res)\n",
        "\n",
        "val3 = 9\n",
        "val4 = 3\n",
        "res = val3 * val4\n",
        "print(res)\n",
        "\n",
        "val5 = 9\n",
        "val6 = 8\n",
        "res = val5 - val6\n",
        "print(res)\n"
      ]
    }
  ]
}